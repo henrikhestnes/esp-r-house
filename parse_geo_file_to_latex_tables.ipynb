{
 "cells": [
  {
   "cell_type": "code",
   "execution_count": null,
   "metadata": {},
   "outputs": [],
   "source": [
    "import os\n",
    "import pandas as pd"
   ]
  },
  {
   "cell_type": "code",
   "execution_count": null,
   "metadata": {},
   "outputs": [],
   "source": [
    "path = \"./zones\"\n",
    "# dfs = [pd.DataFrame(columns=[\"Vertex Index\", \"X-coordinate\", \"Y-coordinate\", \"Z-coordinate\"])]*13\n",
    "i = 0\n",
    "\n",
    "vertex_tables = {}\n",
    "construction_tables = {}\n",
    "filenames = []\n",
    "for filename in os.listdir(path):\n",
    "    if filename.endswith(\".geo\"):\n",
    "        ###############PARSE VERTICES###############\n",
    "        filenames.append(filename)\n",
    "        df_vertices = pd.DataFrame(columns=[\"Vertex Index\", \"X-coordinate\", \"Y-coordinate\", \"Z-coordinate\"])\n",
    "        i += 1\n",
    "        file = open(os.path.join(path, filename))\n",
    "        #Skip first 4 lines\n",
    "        file.readline()\n",
    "        file.readline()\n",
    "        file.readline()\n",
    "        file.readline()\n",
    "\n",
    "        vertex_indices = []\n",
    "        x = []\n",
    "        y = []\n",
    "        z = []\n",
    "\n",
    "        line = file.readline().split(',')\n",
    "        while line != ['# \\n']:\n",
    "            y_cor_index = line[3].strip().split(\"#\")\n",
    "            vertex_indices.append(int(y_cor_index[-1]))\n",
    "            x.append(float(line[1]))\n",
    "            y.append(float(line[2]))\n",
    "            z.append(float(y_cor_index[0]))\n",
    "            line = file.readline().split(',')\n",
    "        \n",
    "        df_vertices[\"Vertex Index\"] = vertex_indices\n",
    "        df_vertices[\"X-coordinate\"] = x\n",
    "        df_vertices[\"Y-coordinate\"] = y\n",
    "        df_vertices[\"Z-coordinate\"] = z\n",
    "\n",
    "        vertex_tables[filename] = df_vertices.to_latex(index=False)\n",
    "\n",
    "\n",
    "        ###############PARSE CONSTRUCTIONS###############\n",
    "        df_constructions = pd.DataFrame(columns=[\"Wall\", \"Vertices\", \"Construction\", \"Surface Other Side\\n(Zone:Wall)\", \"USEtype\"])\n",
    "\n",
    "        #Skip 1 line to get vertices of constructions\n",
    "        vertices = []\n",
    "        file.readline()\n",
    "        line = file.readline().split(\",\")\n",
    "        while line != ['# \\n']:\n",
    "            vertices_in_construction = []\n",
    "            for vertex in line[2:]:\n",
    "                if \"#\" in vertex: #Last vertex, format \"Vertex # wall index\"\n",
    "                    vertex = vertex.split(\"#\")[0]\n",
    "                vertices_in_construction.append(int(vertex))\n",
    "            \n",
    "            vertices.append(vertices_in_construction)\n",
    "            line = file.readline().split(\",\")\n",
    "\n",
    "        #Skip next 5 lines to get to construction details\n",
    "        file.readline()\n",
    "        file.readline()\n",
    "        file.readline()\n",
    "        file.readline()\n",
    "        file.readline()\n",
    "\n",
    "        walls = []\n",
    "        constructions = []\n",
    "        surf_other_side = []\n",
    "        USEtype = []\n",
    "\n",
    "        construction_rename_map = {\"ext_wall_norway\": \"Exterior Wall\",\n",
    "                                   \"inv_ext_wall_norway\": \"Exterior Wall Inverted\",\n",
    "                                   \"ext_roof\": \"Roof\",\n",
    "                                   \"int_wall\": \"Interior Wall\",\n",
    "                                   \"int_ceil\": \"Ceiling\",\n",
    "                                   \"int_doors\": \"Interior Door\",\n",
    "                                   \"ext_door\": \"Exterior Door\",\n",
    "                                   \"tripglz_1.08\": \"Window\",\n",
    "                                   \"int_floor\": \"Interior Floor\",\n",
    "                                   \"floor_ground_floor\": \"Ground Floor\",\n",
    "                                   \"fictitious\": \"Fictitious\"}\n",
    "\n",
    "        line = file.readline().split(\",\")\n",
    "        while line != ['# \\n']:\n",
    "            walls.append(line[1])\n",
    "            # construction\n",
    "\n",
    "            line = file.readline().split(\",\")\n",
    "\n"
   ]
  },
  {
   "cell_type": "code",
   "execution_count": null,
   "metadata": {},
   "outputs": [
    {
     "data": {
      "text/plain": [
       "['1fBath.geo',\n",
       " '1fEntrance.geo',\n",
       " '1fSleep1.geo',\n",
       " '1fSleep2.geo',\n",
       " '1fSleep3.geo',\n",
       " '1fStorRoom.geo',\n",
       " '2fLivRoom.geo',\n",
       " '2fOffice.geo',\n",
       " 'gfBath.geo',\n",
       " 'gfLivRoom.geo',\n",
       " 'gfSleep.geo',\n",
       " 'gfStorRoom.geo',\n",
       " 'gfStr.geo']"
      ]
     },
     "execution_count": 12,
     "metadata": {},
     "output_type": "execute_result"
    }
   ],
   "source": [
    "filenames"
   ]
  },
  {
   "cell_type": "code",
   "execution_count": null,
   "metadata": {},
   "outputs": [
    {
     "ename": "NameError",
     "evalue": "name 'tables' is not defined",
     "output_type": "error",
     "traceback": [
      "\u001b[1;31m---------------------------------------------------------------------------\u001b[0m",
      "\u001b[1;31mNameError\u001b[0m                                 Traceback (most recent call last)",
      "\u001b[1;32m~\\AppData\\Local\\Temp\\ipykernel_15008\\1965248210.py\u001b[0m in \u001b[0;36m<module>\u001b[1;34m\u001b[0m\n\u001b[1;32m----> 1\u001b[1;33m \u001b[1;32mfor\u001b[0m \u001b[0mkey\u001b[0m\u001b[1;33m,\u001b[0m \u001b[0mtable\u001b[0m \u001b[1;32min\u001b[0m \u001b[0mtables\u001b[0m\u001b[1;33m.\u001b[0m\u001b[0mitems\u001b[0m\u001b[1;33m(\u001b[0m\u001b[1;33m)\u001b[0m\u001b[1;33m:\u001b[0m\u001b[1;33m\u001b[0m\u001b[0m\n\u001b[0m\u001b[0;32m      2\u001b[0m     \u001b[0mprint\u001b[0m\u001b[1;33m(\u001b[0m\u001b[0mkey\u001b[0m\u001b[1;33m)\u001b[0m\u001b[1;33m\u001b[0m\u001b[0m\n\u001b[0;32m      3\u001b[0m     \u001b[0mprint\u001b[0m\u001b[1;33m(\u001b[0m\u001b[0mtable\u001b[0m\u001b[1;33m)\u001b[0m\u001b[1;33m\u001b[0m\u001b[0m\n",
      "\u001b[1;31mNameError\u001b[0m: name 'tables' is not defined"
     ]
    }
   ],
   "source": [
    "for key, table in vertex_tables.items():\n",
    "    print(key)\n",
    "    print(table)"
   ]
  }
 ],
 "metadata": {
  "kernelspec": {
   "display_name": "Python 3.7.0 64-bit",
   "language": "python",
   "name": "python3"
  },
  "language_info": {
   "codemirror_mode": {
    "name": "ipython",
    "version": 3
   },
   "file_extension": ".py",
   "mimetype": "text/x-python",
   "name": "python",
   "nbconvert_exporter": "python",
   "pygments_lexer": "ipython3",
   "version": "3.7.0 (v3.7.0:1bf9cc5093, Jun 27 2018, 04:59:51) [MSC v.1914 64 bit (AMD64)]"
  },
  "orig_nbformat": 4,
  "vscode": {
   "interpreter": {
    "hash": "2461a61f8049c308280810da373ed97ca3c6d273beea101ef3cbd62fbdd1677f"
   }
  }
 },
 "nbformat": 4,
 "nbformat_minor": 2
}
